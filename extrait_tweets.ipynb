{
 "cells": [
  {
   "cell_type": "markdown",
   "id": "ce96a254",
   "metadata": {},
   "source": [
    "<html><h2><center>Le code d'extraction des tweets utilise Selenium pour automatiser l'interaction avec Twitter et récupérer les tweets en temps réel</center><h2></html>"
   ]
  },
  {
   "cell_type": "markdown",
   "id": "8e86872b",
   "metadata": {},
   "source": [
    "<html>Pour l'automatisation du navigateur web, il utilise <span style=\"color:blue\">Selenium</span>. Les modules importés de <span style=\"color:blue\">Selenium</span> incluent le module principal <span style=\"color:blue\">Selenium</span>, la classe <span style=\"color:red\">webdriver</span> pour contrôler le navigateur, les éléments de localisation By pour trouver les éléments sur une page web, les touches Keys pour simuler des actions clavier, et les modules Options spécifiques au navigateur pour personnaliser le comportement de celui-ci. Le module time est également importé pour gérer les délais.<html>"
   ]
  },
  {
   "cell_type": "code",
   "execution_count": 1,
   "id": "28cc91eb-2a1c-482a-9ec5-c0a6dfd15137",
   "metadata": {},
   "outputs": [],
   "source": [
    "# pip install selenium"
   ]
  },
  {
   "cell_type": "code",
   "execution_count": 1,
   "id": "df1f3299",
   "metadata": {},
   "outputs": [],
   "source": [
    "import selenium\n",
    "from selenium import webdriver\n",
    "from selenium.webdriver.common.by import By\n",
    "from selenium.webdriver.common.keys import Keys\n",
    "from selenium.webdriver.edge.options import Options\n",
    "from selenium.webdriver.support.ui import WebDriverWait\n",
    "from selenium.webdriver.support import expected_conditions as EC\n",
    "import time\n"
   ]
  },
  {
   "cell_type": "markdown",
   "id": "f4e38049",
   "metadata": {},
   "source": [
    "<html>Pour l'interaction avec une base de données <span style=\"color:blue\">MongoDB</span>, il utilise <span style=\"color:red\">pymongo</span>. Les modules importés incluent <span style=\"color:red\">pymongo</span> pour la connexion et la manipulation de la base de données, et <span style=\"color:blue\">MongoClient</span> pour établir une connexion avec le serveur <span style=\"color:blue\">MongoDB</span>.</html>"
   ]
  },
  {
   "cell_type": "code",
   "execution_count": 2,
   "id": "e8807bff",
   "metadata": {},
   "outputs": [],
   "source": [
    "import pymongo\n",
    "from pymongo import MongoClient"
   ]
  },
  {
   "cell_type": "markdown",
   "id": "3f7f9796",
   "metadata": {},
   "source": [
    "Ouverture du navigateur et navigation vers Twitter: Il démarre un navigateur Edge à l'aide de Selenium et ouvre la page d'accueil de Twitter."
   ]
  },
  {
   "cell_type": "code",
   "execution_count": 3,
   "id": "f22084c5",
   "metadata": {},
   "outputs": [],
   "source": [
    "options = webdriver.EdgeOptions()\n",
    "options.add_argument(\"--start-maximized\")\n",
    "driver = webdriver.Edge(options=options)\n",
    "driver.get(\"https://twitter.com/home\")"
   ]
  },
  {
   "cell_type": "markdown",
   "id": "e81e88f2",
   "metadata": {},
   "source": [
    "Connexion à un compte Twitter: Il entre le nom d'utilisateur et le mot de passe dans les champs correspondants sur la page de connexion de Twitter, puis clique sur le bouton \"Log in\" pour se connecter au compte."
   ]
  },
  {
   "cell_type": "code",
   "execution_count": 4,
   "id": "4abeb5fa",
   "metadata": {},
   "outputs": [],
   "source": [
    "your_twitter_user=\"\"\n",
    "your_twitter_password=\"\"\n",
    "wait = WebDriverWait(driver, 10)\n",
    "username = wait.until(EC.visibility_of_element_located((By.XPATH, \"//input[@name='text']\")))\n",
    "username.send_keys(your_twitter_user)\n",
    "next_button = wait.until(EC.element_to_be_clickable((By.XPATH, \"//span[contains(text(),'Next')]\")))\n",
    "next_button.click()\n",
    "\n",
    "password = wait.until(EC.visibility_of_element_located((By.XPATH, \"//input[@name='password']\")))\n",
    "password.send_keys(your_twitter_password)\n",
    "log_in = wait.until(EC.element_to_be_clickable((By.XPATH, \"//span[contains(text(),'Log in')]\")))\n",
    "log_in.click()"
   ]
  },
  {
   "cell_type": "markdown",
   "id": "18833b19",
   "metadata": {},
   "source": [
    "Recherche de tweets en anglais: Il recherche des tweets en langue anglaise en utilisant une requête vide, suivie de \" lang:en\", pour filtrer les tweets en anglais."
   ]
  },
  {
   "cell_type": "code",
   "execution_count": 41,
   "id": "1d1a038d",
   "metadata": {},
   "outputs": [],
   "source": [
    "subject = \"\"\n",
    "search_query = subject + \" lang:en\"\n",
    "search_box = wait.until(EC.visibility_of_element_located((By.XPATH, '//input[@data-testid=\"SearchBox_Search_Input\"]')))\n",
    "search_box.send_keys(search_query)\n",
    "search_box.send_keys(Keys.ENTER)"
   ]
  },
  {
   "cell_type": "markdown",
   "id": "119fe3ab",
   "metadata": {},
   "source": [
    "Sélection de l'onglet \"Latest\": Il clique sur l'onglet \"Latest\" pour afficher les tweets les plus récents correspondant à la requête de recherche."
   ]
  },
  {
   "cell_type": "code",
   "execution_count": 42,
   "id": "0f942b4d",
   "metadata": {},
   "outputs": [],
   "source": [
    "latest_button = wait.until(EC.element_to_be_clickable((By.XPATH, \"//span[contains(text(),'Latest')]\")))\n",
    "latest_button.click()"
   ]
  },
  {
   "cell_type": "markdown",
   "id": "085f7cad-68f1-48b1-9eb5-de120a1167b5",
   "metadata": {},
   "source": [
    "<html>Nous établissons une connexion à MongoDB sur l'hôte local (localhost) et le port 27017, puis nous sélectionnons la base de données <span style=\"color:blue;\">'tweets_db'</span> à partir de cette connexion, et enfin, nous sélectionnons la collection <span style=\"color:blue;\">'tweets'</span> dans la base de données 'tweets_db'\n",
    "</html>"
   ]
  },
  {
   "cell_type": "code",
   "execution_count": 46,
   "id": "4e1aa47e-80cd-4956-8100-669213ad1302",
   "metadata": {},
   "outputs": [],
   "source": [
    "client = MongoClient('localhost', 27017)\n",
    "db = client['tweets_db']\n",
    "collection = db['tweets']\n",
    "# collection.delete_many({})\n",
    "# "
   ]
  },
  {
   "cell_type": "markdown",
   "id": "deb82c18",
   "metadata": {},
   "source": [
    "<html>\n",
    "Ici, nous extrayons des données à partir de tweets sur <span style=\"color:blue;\">Twitter</span> en utilisant une boucle infinie pour continuer le scraping jusqu'à ce qu'un certain nombre de tweets soit atteint. À chaque itération de la boucle, nous recherchons les éléments HTML correspondant aux <span style=\"color:red;\">tweets</span>, aux <span style=\"color:red;\">horodatages</span>, aux nombres de <span style=\"color:red;\">likes</span>, aux nombres de <span style=\"color:red;\">retweets</span> à l'aide de XPath. Ensuite, nous insérons ces données dans une collection <span style=\"color:blue;\">MongoDB</span>.\n",
    "</html>"
   ]
  },
  {
   "cell_type": "code",
   "execution_count": 49,
   "id": "877c466d",
   "metadata": {},
   "outputs": [
    {
     "name": "stdout",
     "output_type": "stream",
     "text": [
      "{'content': \"I'm happy for you guys\", 'date': '2024-05-05T16:32:50.000Z', 'likes': '3', 'ret': 0}\n",
      "{'content': 'IM NOT ASHAMED', 'date': '2024-05-05T16:32:50.000Z', 'likes': '2', 'ret': 0}\n",
      "{'content': 'W aslam', 'date': '2024-05-05T16:32:50.000Z', 'likes': 0, 'ret': 0}\n",
      "{'content': 'respect. ', 'date': '2024-05-05T16:32:50.000Z', 'likes': 0, 'ret': 0}\n",
      "{'content': 'Happy Fathers Day', 'date': '2024-05-05T16:32:50.000Z', 'likes': 0, 'ret': 0}\n",
      "{'content': 'No one cares what jih@dis says', 'date': '2024-05-05T16:32:50.000Z', 'likes': 0, 'ret': 0}\n",
      "{'content': 'Keren banget fotonya! Me wants to be your moots. :]', 'date': '2024-05-05T16:32:50.000Z', 'likes': 0, 'ret': 0}\n",
      "{'content': 'Check out my #SMRTG analysis on \\n@TradingView\\n:', 'date': '2024-05-05T16:32:50.000Z', 'likes': 0, 'ret': 0}\n",
      "{'content': 'Clock it', 'date': '2024-05-05T16:32:50.000Z', 'likes': 0, 'ret': 0}\n",
      "{'content': 'one like and ill jump', 'date': '2024-05-05T16:32:50.000Z', 'likes': '1', 'ret': 0}\n",
      "{'content': 'at the end of their quarter life performance, taehyun looked at beomgyu and hueningkai like he adored them so much. it hits harder because he just said \"as someone who\\'s in the same boat and seeing them grow, i was so proud of my members today\"', 'date': '2024-05-05T14:28:59.000Z', 'likes': 0, 'ret': 0}\n",
      "{'content': 'whose?', 'date': '2024-05-05T16:32:50.000Z', 'likes': 0, 'ret': 0}\n",
      "{'content': \"you're their addiction, libra.\", 'date': '2024-05-05T16:32:00.000Z', 'likes': 0, 'ret': 0}\n",
      "{'content': 'Dayum', 'date': '2024-05-05T16:32:50.000Z', 'likes': 0, 'ret': 0}\n",
      "{'content': 'birthday suit ', 'date': '2023-11-11T17:53:08.000Z', 'likes': 0, 'ret': 0}\n",
      "{'content': 'BRANNNNNNNN', 'date': '2024-05-05T16:32:50.000Z', 'likes': 0, 'ret': 0}\n",
      "{'content': 'You will all leave outstayed your welcome you don’t like us or our country only the free money house education healthcare well we are sick of our taxes paying for you all it will end.P.S We don’t like you either every country you descend upon you try to destroy.', 'date': '2024-05-05T16:32:50.000Z', 'likes': 0, 'ret': 0}\n",
      "{'content': 'ugh me and brianna after laila teaches us how to dance', 'date': '2024-05-05T16:32:50.000Z', 'likes': 0, 'ret': 0}\n",
      "{'content': 'THE LONGER VERSION', 'date': '2024-05-05T00:48:10.000Z', 'likes': 0, 'ret': 0}\n",
      "{'content': 'packim', 'date': '2024-05-05T16:32:50.000Z', 'likes': 0, 'ret': 0}\n",
      "{'content': 'Carol King', 'date': '2024-05-05T16:32:50.000Z', 'likes': 0, 'ret': 0}\n",
      "{'content': 'This is canon.', 'date': '2024-05-05T16:32:50.000Z', 'likes': 0, 'ret': 0}\n",
      "{'content': \"It's afraid\", 'date': '2024-05-05T16:32:50.000Z', 'likes': 0, 'ret': 0}\n",
      "{'content': 'You should tell us because im do dumb for this', 'date': '2024-05-05T16:32:50.000Z', 'likes': '1', 'ret': 0}\n",
      "{'content': 'Election must be getting closer, those talking rubbish are at it again.', 'date': '2024-05-05T16:32:50.000Z', 'likes': 0, 'ret': 0}\n",
      "{'content': 'do you know i accidentally fell upon a shipper of lqr x jc ....I ', 'date': '2024-05-05T16:32:50.000Z', 'likes': 0, 'ret': 0}\n",
      "{'content': 'Oh and I’m sure your meant “reel not real ', 'date': '2024-05-05T16:32:50.000Z', 'likes': 0, 'ret': 0}\n",
      "{'content': 'u read a factual statement', 'date': '2024-05-05T16:32:50.000Z', 'likes': 0, 'ret': 0}\n",
      "{'content': 'Bermain tic tac to bersama', 'date': '2024-05-05T16:32:50.000Z', 'likes': 0, 'ret': 0}\n",
      "{'content': \"oh so you're on the other side of the world? lol\", 'date': '2024-05-05T16:32:50.000Z', 'likes': 0, 'ret': 0}\n",
      "{'content': \"Check out Cody-Amorero's video! #TikTok\", 'date': '2024-05-05T16:32:50.000Z', 'likes': 0, 'ret': 0}\n",
      "{'content': 'Yes it was.', 'date': '2024-05-05T16:32:50.000Z', 'likes': 0, 'ret': 0}\n",
      "{'content': 'Was The Mar-a-Lago Raid A Setup? https://rumble.com/v4sb0g0-was-the-mar-a-lago-raid-a-setup.html…', 'date': '2024-05-05T03:39:21.000Z', 'likes': 0, 'ret': 0}\n",
      "{'content': 'This man wouldn’t spit on you if you were on fire. What the fuck are you doing bro', 'date': '2024-05-05T16:32:50.000Z', 'likes': 0, 'ret': 0}\n",
      "{'content': 'No chance', 'date': '2024-05-05T16:32:50.000Z', 'likes': '1', 'ret': 0}\n",
      "{'content': 'Layers of comedy here', 'date': '2024-05-05T16:32:50.000Z', 'likes': 0, 'ret': 0}\n",
      "{'content': 'Good tweet', 'date': '2024-05-05T16:32:50.000Z', 'likes': 0, 'ret': 0}\n",
      "{'content': 'Nah Evans is most likely not ready to start', 'date': '2024-05-05T16:32:50.000Z', 'likes': 0, 'ret': 0}\n",
      "{'content': 'Superb catch! ', 'date': '2024-05-05T16:32:50.000Z', 'likes': 0, 'ret': 0}\n",
      "{'content': 'THE QUALITY THOOOOOOO GOKIL BANGET', 'date': '2024-05-05T16:32:50.000Z', 'likes': 0, 'ret': 0}\n",
      "{'content': 'Except these are legit pedocrat Biden supporters ', 'date': '2024-05-05T16:32:50.000Z', 'likes': 0, 'ret': 0}\n",
      "{'content': 'You can only speak for you.', 'date': '2024-05-05T16:32:50.000Z', 'likes': '1', 'ret': 0}\n",
      "{'content': 'Mayank cutie deserve better friends', 'date': '2024-05-05T16:32:50.000Z', 'likes': 0, 'ret': 0}\n",
      "{'content': 'What do you recommend installing StartOS on? If I cannot use my Raspis what shall I use instead?', 'date': '2024-05-05T16:32:50.000Z', 'likes': 0, 'ret': 0}\n",
      "{'content': 'When I don’t fucking like you and no longer care, you will feel it without me even saying a word.', 'date': '2024-05-05T16:32:50.000Z', 'likes': 0, 'ret': 0}\n",
      "{'content': 'Rohit Sharma Openers batsman not No 5,6,7,8 batsman', 'date': '2024-05-05T16:32:50.000Z', 'likes': '1', 'ret': '1'}\n",
      "{'content': 'i’m so sick of this place', 'date': '2024-05-05T16:32:50.000Z', 'likes': 0, 'ret': 0}\n",
      "{'content': 'lock him up & throw away the key ', 'date': '2024-05-05T16:32:50.000Z', 'likes': 0, 'ret': 0}\n",
      "{'content': 'I’m sorry but he was NOT “throwing hands” he was fighting for his life ', 'date': '2024-05-05T16:32:50.000Z', 'likes': 0, 'ret': 0}\n",
      "{'content': 'Morning vibes! ', 'date': '2024-05-05T16:32:50.000Z', 'likes': 0, 'ret': 0}\n",
      "{'content': 'Nah Evans is most likely not ready to start', 'date': '2024-05-05T16:32:50.000Z', 'likes': 0, 'ret': 0}\n",
      "{'content': 'Superb catch! ', 'date': '2024-05-05T16:32:50.000Z', 'likes': 0, 'ret': 0}\n",
      "{'content': 'THE QUALITY THOOOOOOO GOKIL BANGET', 'date': '2024-05-05T16:32:50.000Z', 'likes': 0, 'ret': 0}\n",
      "{'content': 'Except these are legit pedocrat Biden supporters ', 'date': '2024-05-05T16:32:50.000Z', 'likes': 0, 'ret': 0}\n",
      "{'content': 'You can only speak for you.', 'date': '2024-05-05T16:32:50.000Z', 'likes': 0, 'ret': 0}\n",
      "{'content': 'Mayank cutie deserve better friends', 'date': '2024-05-05T16:32:50.000Z', 'likes': '1', 'ret': 0}\n",
      "{'content': 'What do you recommend installing StartOS on? If I cannot use my Raspis what shall I use instead?', 'date': '2024-05-05T16:32:50.000Z', 'likes': 0, 'ret': 0}\n",
      "{'content': 'When I don’t fucking like you and no longer care, you will feel it without me even saying a word.', 'date': '2024-05-05T16:32:50.000Z', 'likes': 0, 'ret': 0}\n",
      "{'content': 'Rohit Sharma Openers batsman not No 5,6,7,8 batsman', 'date': '2024-05-05T16:32:50.000Z', 'likes': 0, 'ret': 0}\n",
      "{'content': 'i’m so sick of this place', 'date': '2024-05-05T16:32:50.000Z', 'likes': '1', 'ret': '1'}\n",
      "{'content': 'lock him up & throw away the key ', 'date': '2024-05-05T16:32:50.000Z', 'likes': 0, 'ret': 0}\n",
      "{'content': 'I’m sorry but he was NOT “throwing hands” he was fighting for his life ', 'date': '2024-05-05T16:32:50.000Z', 'likes': 0, 'ret': 0}\n",
      "{'content': 'Morning vibes! ', 'date': '2024-05-05T16:32:50.000Z', 'likes': 0, 'ret': 0}\n",
      "{'content': 'Cramming time', 'date': '2024-05-05T16:32:50.000Z', 'likes': 0, 'ret': 0}\n",
      "{'content': 'Too late to ask for a birthday present ? And no damned Tesla either. \\nI am  JOKING !!!!', 'date': '2024-05-05T16:32:50.000Z', 'likes': 0, 'ret': 0}\n",
      "{'content': \"There is no working poor.  There are only democrats insisting that the working poor now report their garage and swap meet sales on 1099's every year.\", 'date': '2024-05-05T16:32:50.000Z', 'likes': 0, 'ret': 0}\n",
      "{'content': 'Same, put it on wax', 'date': '2024-05-05T16:32:50.000Z', 'likes': '2', 'ret': 0}\n",
      "{'content': 'Metro tweeting is cornyyyyyy as hell to me idk', 'date': '2024-05-05T15:48:12.000Z', 'likes': 0, 'ret': 0}\n",
      "{'content': 'yeah it changed , so screwed up', 'date': '2024-05-05T16:32:50.000Z', 'likes': 0, 'ret': 0}\n",
      "{'content': 'Ratna\\'s next series (her biopic) on Netflix titled \"Pagli Kahin ki\", releasing shortly.', 'date': '2024-05-05T16:32:50.000Z', 'likes': 0, 'ret': 0}\n",
      "{'content': \"I've been saying that for over a decade.\\n\\nHollywood is now culturally irrelevant.\", 'date': '2024-05-05T16:32:50.000Z', 'likes': 0, 'ret': 0}\n"
     ]
    }
   ],
   "source": [
    "tweet_count = 0\n",
    "while True:\n",
    "    tweets = driver.find_elements(By.XPATH, '//div[@data-testid=\"tweetText\"]')\n",
    "    tweets_time = driver.find_elements(By.XPATH, '//time[@datetime]')\n",
    "    likes = driver.find_elements(By.XPATH, './/div[@data-testid=\"like\"]')\n",
    "    retweets = driver.find_elements(By.XPATH, './/div[@data-testid=\"retweet\"]')\n",
    "\n",
    "    for tweet, tweet_time,like,ret in zip(tweets, tweets_time,likes,retweets):\n",
    "        # print(lik.text,ret.text)\n",
    "        if not like or like.text == \"\":\n",
    "            nbLike=0\n",
    "        else:\n",
    "            nbLike=like.text\n",
    "        if not ret or ret.text == \"\":\n",
    "            nbRet=0\n",
    "        else:\n",
    "            nbRet=ret.text\n",
    "\n",
    "        t = {\n",
    "            \"content\": tweet.text,\n",
    "            \"date\": tweet_time.get_attribute(\"datetime\"),\n",
    "            'likes':nbLike,\n",
    "            \"ret\":nbRet,\n",
    "        }\n",
    "        # print(t)\n",
    "        collection.insert_one(t)\n",
    "        \n",
    "        tweet_count += 1\n",
    "    \n",
    "    if tweet_count >=70:\n",
    "            break\n",
    "    driver.execute_script(\"window.scrollTo(0, document.body.scrollHeight);\")\n",
    "    time.sleep(2)\n",
    "    "
   ]
  },
  {
   "cell_type": "markdown",
   "id": "ba767ed9",
   "metadata": {},
   "source": [
    "Nous récupérons tous les documents de la collection MongoDB, les affichons, puis fermons la connexion cliente."
   ]
  },
  {
   "cell_type": "code",
   "execution_count": 50,
   "id": "68d07fc0",
   "metadata": {},
   "outputs": [
    {
     "name": "stdout",
     "output_type": "stream",
     "text": [
      "{'_id': ObjectId('6637b4ba28e662f0e0d3db56'), 'content': 'Who are we playing next?', 'date': '2024-05-05T16:32:50.000Z', 'likes': 0, 'ret': 0}\n",
      "{'_id': ObjectId('6637b4ba28e662f0e0d3db57'), 'content': 'The Rock', 'date': '2024-05-05T16:32:50.000Z', 'likes': 0, 'ret': 0}\n",
      "{'_id': ObjectId('6637b4ba28e662f0e0d3db58'), 'content': 'GoodAfternoon', 'date': '2024-05-05T16:32:50.000Z', 'likes': 0, 'ret': 0}\n",
      "{'_id': ObjectId('6637b4ba28e662f0e0d3db59'), 'content': 'kermit is the better dresser \\n@JimHensonMuppet', 'date': '2024-05-05T16:32:50.000Z', 'likes': 0, 'ret': 0}\n",
      "{'_id': ObjectId('6637b4ba28e662f0e0d3db5a'), 'content': '“The Pope shall be for the west, and you shall be for us, you shall be for us!”', 'date': '2024-05-05T16:32:50.000Z', 'likes': 0, 'ret': 0}\n",
      "{'_id': ObjectId('6637b4bb28e662f0e0d3db5b'), 'content': 'W.T.A.F \\n\\nAre these guys climbing mountains in training?? ', 'date': '2024-05-05T16:32:50.000Z', 'likes': 0, 'ret': 0}\n",
      "{'_id': ObjectId('6637b4bb28e662f0e0d3db5c'), 'content': ' @HarryMaguire93 has sustained an injury that will rule him out for about three weeks.\\n\\n#MUFC', 'date': '2024-05-05T16:19:33.000Z', 'likes': 0, 'ret': 0}\n",
      "{'_id': ObjectId('6637b4bb28e662f0e0d3db5d'), 'content': 'Sophie rain spider man vid and nyc blanket couple video\\n\\nbig jill too\\n\\n#sophierainvideo', 'date': '2024-05-05T16:32:50.000Z', 'likes': 0, 'ret': 0}\n",
      "{'_id': ObjectId('6637b4bb28e662f0e0d3db5e'), 'content': 'Amen', 'date': '2024-05-05T16:32:50.000Z', 'likes': 0, 'ret': 0}\n",
      "{'_id': ObjectId('6637b4bb28e662f0e0d3db5f'), 'content': \"$LIFC is about to change the game! Don't miss out on the ground floor!\", 'date': '2024-05-05T16:32:50.000Z', 'likes': 0, 'ret': 0}\n",
      "{'_id': ObjectId('6637b4bb28e662f0e0d3db60'), 'content': 'The episode is still up. Check', 'date': '2024-05-05T16:32:50.000Z', 'likes': 0, 'ret': 0}\n",
      "{'_id': ObjectId('6637b4bb28e662f0e0d3db61'), 'content': '$stachecat that unique cat in solana', 'date': '2024-05-05T16:32:50.000Z', 'likes': 0, 'ret': 0}\n",
      "{'_id': ObjectId('6637b4bb28e662f0e0d3db62'), 'content': \"$LIFC is about to change the game! Don't miss out on the ground floor!\", 'date': '2024-05-05T16:32:50.000Z', 'likes': 0, 'ret': 0}\n",
      "{'_id': ObjectId('6637b4bb28e662f0e0d3db63'), 'content': 'The episode is still up. Check', 'date': '2024-05-05T16:32:50.000Z', 'likes': 0, 'ret': 0}\n",
      "{'_id': ObjectId('6637b4bc28e662f0e0d3db64'), 'content': '$stachecat that unique cat in solana', 'date': '2024-05-05T16:32:50.000Z', 'likes': 0, 'ret': 0}\n",
      "{'_id': ObjectId('6637b4bc28e662f0e0d3db65'), 'content': \"$LIFC is about to change the game! Don't miss out on the ground floor!\", 'date': '2024-05-05T16:32:50.000Z', 'likes': 0, 'ret': 0}\n",
      "{'_id': ObjectId('6637b4bc28e662f0e0d3db66'), 'content': 'The episode is still up. Check', 'date': '2024-05-05T16:32:50.000Z', 'likes': 0, 'ret': 0}\n",
      "{'_id': ObjectId('6637b4bc28e662f0e0d3db67'), 'content': '$stachecat that unique cat in solana', 'date': '2024-05-05T16:32:50.000Z', 'likes': 0, 'ret': 0}\n",
      "{'_id': ObjectId('6637b4bc28e662f0e0d3db68'), 'content': 'The episode is still up. Check', 'date': '2024-05-05T16:32:50.000Z', 'likes': 0, 'ret': 0}\n",
      "{'_id': ObjectId('6637b4bd28e662f0e0d3db69'), 'content': '$stachecat that unique cat in solana', 'date': '2024-05-05T16:32:50.000Z', 'likes': 0, 'ret': 0}\n",
      "{'_id': ObjectId('6637b4bd28e662f0e0d3db6a'), 'content': 'You better not', 'date': '2024-05-05T16:32:50.000Z', 'likes': 0, 'ret': 0}\n",
      "{'_id': ObjectId('6637b4e328e662f0e0d3db6c'), 'content': 'Reall', 'date': '2024-05-05T16:32:50.000Z', 'likes': 0, 'ret': 0}\n",
      "{'_id': ObjectId('6637b4e328e662f0e0d3db6d'), 'content': 'The best thing about evolution being how humans came to be is that it is proof not all life is valuable and that some people are born better than others', 'date': '2024-05-05T16:32:50.000Z', 'likes': 0, 'ret': 0}\n",
      "{'_id': ObjectId('6637b4e328e662f0e0d3db6e'), 'content': 'Is this when the British owned it?', 'date': '2024-05-05T16:32:50.000Z', 'likes': 0, 'ret': 0}\n",
      "{'_id': ObjectId('6637b4e328e662f0e0d3db6f'), 'content': \"Persecuted people got  compensation from government and temple should be there it was decision of court and faith of people was respected and I repeat again there's no political influence over supreme court.\", 'date': '2024-05-05T16:32:50.000Z', 'likes': 0, 'ret': 0}\n",
      "{'_id': ObjectId('6637b4e328e662f0e0d3db70'), 'content': 'I think the days of arguing that point are long gone. Right now, we are living in a dictatorship.', 'date': '2024-05-05T16:32:50.000Z', 'likes': 0, 'ret': 0}\n",
      "{'_id': ObjectId('6637b4e328e662f0e0d3db71'), 'content': \"we're on our way to having the first Unreal app on the VisionOS store as well, thank you!\", 'date': '2024-05-05T16:32:50.000Z', 'likes': 0, 'ret': 0}\n",
      "{'_id': ObjectId('6637b4e328e662f0e0d3db72'), 'content': 'Bullshit. They keep hitting me with the playied over 2 hours song and dance', 'date': '2024-05-05T16:32:50.000Z', 'likes': 0, 'ret': 0}\n",
      "{'_id': ObjectId('6637b4e428e662f0e0d3db73'), 'content': \"You're an award winning producer, so your bio states.  MM is an actress. So. If you're so concerned about her. Give her a role.  Try!!! Let us know the outcome.\", 'date': '2024-05-05T16:32:50.000Z', 'likes': '1', 'ret': 0}\n",
      "{'_id': ObjectId('6637b4e428e662f0e0d3db74'), 'content': 'also excited to see what new art method you use in the third row starting next week', 'date': '2024-05-05T16:32:50.000Z', 'likes': 0, 'ret': 0}\n",
      "{'_id': ObjectId('6637b4e428e662f0e0d3db75'), 'content': '@roseglow_\\n HAVE YOU SEEN THIS', 'date': '2024-05-05T16:32:50.000Z', 'likes': '1', 'ret': 0}\n",
      "{'_id': ObjectId('6637b4e428e662f0e0d3db76'), 'content': 'Hmmm que legal lol', 'date': '2024-05-05T16:32:50.000Z', 'likes': 0, 'ret': 0}\n",
      "{'_id': ObjectId('6637b4e428e662f0e0d3db77'), 'content': 'Happy Pascha!', 'date': '2024-05-05T16:32:50.000Z', 'likes': 0, 'ret': 0}\n",
      "{'_id': ObjectId('6637b4e428e662f0e0d3db78'), 'content': 'Hein??', 'date': '2024-05-05T16:32:50.000Z', 'likes': 0, 'ret': 0}\n",
      "{'_id': ObjectId('6637b4e428e662f0e0d3db79'), 'content': \"I have a friend I call when I've bored myself to tears and we talk until we think we might kill ourselves but then we laugh until it disappears\", 'date': '2024-05-05T16:32:50.000Z', 'likes': 0, 'ret': 0}\n",
      "{'_id': ObjectId('6637b4e428e662f0e0d3db7a'), 'content': 'oh wow', 'date': '2024-05-05T16:32:50.000Z', 'likes': 0, 'ret': 0}\n",
      "{'_id': ObjectId('6637b4e428e662f0e0d3db7b'), 'content': 'The problem is context, Mitch or Justin didn’t because neither started the season and by all accounts when they  did start neither was put in a good position to succeed early in those starts. Caleb will have the opportunity to start the entire season w/ offense for him', 'date': '2024-05-05T16:32:50.000Z', 'likes': 0, 'ret': 0}\n",
      "{'_id': ObjectId('6637b4e428e662f0e0d3db7c'), 'content': 'we don’t have any reliable CB that can play 50 games for us in a season.', 'date': '2024-05-05T16:32:50.000Z', 'likes': 0, 'ret': 0}\n",
      "{'_id': ObjectId('6637b4e428e662f0e0d3db7d'), 'content': \"I can't live without her\", 'date': '2024-05-05T16:32:50.000Z', 'likes': 0, 'ret': 0}\n",
      "{'_id': ObjectId('6637b4e428e662f0e0d3db7e'), 'content': 'Good night ', 'date': '2024-05-05T16:32:50.000Z', 'likes': 0, 'ret': 0}\n",
      "{'_id': ObjectId('6637b4e428e662f0e0d3db7f'), 'content': 'Of history church should rather be his willingness to know. It\\n\\n▬نمشؾ▬\\n◗W77◖\\n\\n▬ٺون▬\\n◗FVF◖', 'date': '2024-05-05T16:32:50.000Z', 'likes': 0, 'ret': 0}\n",
      "{'_id': ObjectId('6637b4e728e662f0e0d3db80'), 'content': 'Hein??', 'date': '2024-05-05T16:32:50.000Z', 'likes': 0, 'ret': 0}\n",
      "{'_id': ObjectId('6637b4e728e662f0e0d3db81'), 'content': \"I have a friend I call when I've bored myself to tears and we talk until we think we might kill ourselves but then we laugh until it disappears\", 'date': '2024-05-05T16:32:50.000Z', 'likes': 0, 'ret': 0}\n",
      "{'_id': ObjectId('6637b4e728e662f0e0d3db82'), 'content': 'oh wow', 'date': '2024-05-05T16:32:50.000Z', 'likes': 0, 'ret': 0}\n",
      "{'_id': ObjectId('6637b4e728e662f0e0d3db83'), 'content': 'The problem is context, Mitch or Justin didn’t because neither started the season and by all accounts when they  did start neither was put in a good position to succeed early in those starts. Caleb will have the opportunity to start the entire season w/ offense for him', 'date': '2024-05-05T16:32:50.000Z', 'likes': 0, 'ret': 0}\n",
      "{'_id': ObjectId('6637b4e728e662f0e0d3db84'), 'content': 'we don’t have any reliable CB that can play 50 games for us in a season.', 'date': '2024-05-05T16:32:50.000Z', 'likes': 0, 'ret': 0}\n",
      "{'_id': ObjectId('6637b4e728e662f0e0d3db85'), 'content': \"I can't live without her\", 'date': '2024-05-05T16:32:50.000Z', 'likes': 0, 'ret': 0}\n",
      "{'_id': ObjectId('6637b4e728e662f0e0d3db86'), 'content': 'Good night ', 'date': '2024-05-05T16:32:50.000Z', 'likes': 0, 'ret': 0}\n",
      "{'_id': ObjectId('6637b4e728e662f0e0d3db87'), 'content': 'Of history church should rather be his willingness to know. It\\n\\n▬نمشؾ▬\\n◗W77◖\\n\\n▬ٺون▬\\n◗FVF◖', 'date': '2024-05-05T16:32:50.000Z', 'likes': 0, 'ret': 0}\n",
      "{'_id': ObjectId('6637b4e728e662f0e0d3db88'), 'content': 'I freakin’ won', 'date': '2024-05-05T16:32:50.000Z', 'likes': 0, 'ret': 0}\n",
      "{'_id': ObjectId('6637b4e728e662f0e0d3db89'), 'content': 'she’s so sweet ,, fuck this omg', 'date': '2024-05-05T16:32:50.000Z', 'likes': 0, 'ret': 0}\n",
      "{'_id': ObjectId('6637b4e828e662f0e0d3db8a'), 'content': 'Tome', 'date': '2024-05-05T16:32:50.000Z', 'likes': '1', 'ret': 0}\n",
      "{'_id': ObjectId('6637b4e828e662f0e0d3db8b'), 'content': \"Also, fun fact, towards the end of the video I pan over to a guitarist who sticks his tongue out at me, that's Inscryption's composer \", 'date': '2024-05-05T16:32:50.000Z', 'likes': 0, 'ret': 0}\n",
      "{'_id': ObjectId('6637b4e828e662f0e0d3db8c'), 'content': 'No… what we’re witnessing once again is how on the left you try to dissect the fact that you have created a bunch of children in this country who are absolutely extremist radicals …who have  moral center… to understand that you cannot be an antisemitic ..demand from the river…', 'date': '2024-05-05T16:32:50.000Z', 'likes': 0, 'ret': 0}\n",
      "{'_id': ObjectId('6637b4eb28e662f0e0d3db8d'), 'content': 'Truer words were never spoken ', 'date': '2024-05-05T16:32:50.000Z', 'likes': '1', 'ret': 0}\n",
      "{'_id': ObjectId('6637b4eb28e662f0e0d3db8e'), 'content': 'Your #positivitydaily', 'date': '2024-05-05T15:41:48.000Z', 'likes': 0, 'ret': 0}\n",
      "{'_id': ObjectId('6637b4ec28e662f0e0d3db8f'), 'content': 'Yes we’ve got nothing to play for m8. Would u rather us beat arsenal and city/pool win league', 'date': '2024-05-05T16:32:50.000Z', 'likes': '1', 'ret': 0}\n",
      "{'_id': ObjectId('6637b4ec28e662f0e0d3db90'), 'content': '#LokSabhaElection2024\\n\\nSome special information for you\\nNever to miss', 'date': '2024-05-05T16:32:50.000Z', 'likes': 0, 'ret': 0}\n",
      "{'_id': ObjectId('6637b4ec28e662f0e0d3db91'), 'content': '#KKRvsLSG\\nNot to miss it useful information for you https://twitter.com/mskondal/status/1787150653653164426?t=lDbqcy0gUNuOdsf55HbRjA&s=19…', 'date': '2024-05-05T16:04:59.000Z', 'likes': 0, 'ret': 0}\n",
      "{'_id': ObjectId('6637b4ec28e662f0e0d3db92'), 'content': \"It doesn't. Laws exist that could prosecute in such cases. Applying speed limits to cyclists is impractical and unnecessary.\", 'date': '2024-05-05T16:32:50.000Z', 'likes': 0, 'ret': 0}\n",
      "{'_id': ObjectId('6637b4ec28e662f0e0d3db93'), 'content': \"It's a good movie and it can't be watched legally outside of Japan lmfao\", 'date': '2024-05-05T16:32:50.000Z', 'likes': 0, 'ret': 0}\n",
      "{'_id': ObjectId('6637b4ec28e662f0e0d3db94'), 'content': \"1$... 53 minted... That's what I was saying\", 'date': '2024-05-05T16:32:50.000Z', 'likes': 0, 'ret': 0}\n",
      "{'_id': ObjectId('6637b4ec28e662f0e0d3db95'), 'content': 'We’re recruiting players for Pancake Protectors \\n@PancakeSwap\\n!\\n\\n Earn $CAKE while you play\\n Win NFTs and bonus airdrops\\n Join legion battles and live streams\\n Learn from pros and level up fast!\\n\\nJoin CARIB Legion \\nhttp://discord.caribdao.com', 'date': '2024-05-05T16:32:50.000Z', 'likes': 0, 'ret': 0}\n",
      "{'_id': ObjectId('6637b4ec28e662f0e0d3db96'), 'content': 'wait til you see what i drop next month with the photography homie ', 'date': '2024-05-05T16:32:50.000Z', 'likes': 0, 'ret': 0}\n",
      "{'_id': ObjectId('6637b4ec28e662f0e0d3db97'), 'content': 'i want this sem to end alr but the thot of that makes me feel sad', 'date': '2024-05-05T16:32:50.000Z', 'likes': 0, 'ret': 0}\n",
      "{'_id': ObjectId('6637b4ec28e662f0e0d3db98'), 'content': 'It was supposed to be me ', 'date': '2024-05-05T16:32:50.000Z', 'likes': 0, 'ret': 0}\n",
      "{'_id': ObjectId('6637b4ec28e662f0e0d3db99'), 'content': 'the way rihanna looks at rocky ', 'date': '2024-05-05T05:08:16.000Z', 'likes': 0, 'ret': 0}\n",
      "{'_id': ObjectId('6637b4ed28e662f0e0d3db9a'), 'content': 'Thank you ', 'date': '2024-05-05T16:32:50.000Z', 'likes': 0, 'ret': 0}\n",
      "{'_id': ObjectId('6637b4ed28e662f0e0d3db9b'), 'content': \"You won't see me talking like that with a billion dollars post-moass. \", 'date': '2024-05-05T16:32:50.000Z', 'likes': '2', 'ret': 0}\n",
      "{'_id': ObjectId('6637b4ef28e662f0e0d3db9c'), 'content': 'He should get used to animals !!', 'date': '2024-05-05T16:32:50.000Z', 'likes': 0, 'ret': 0}\n",
      "{'_id': ObjectId('6637b4ef28e662f0e0d3db9d'), 'content': 'Let’s go', 'date': '2024-05-05T16:32:50.000Z', 'likes': 0, 'ret': 0}\n",
      "{'_id': ObjectId('6637b4ef28e662f0e0d3db9e'), 'content': 'She do these same moves every class ', 'date': '2024-05-05T16:32:50.000Z', 'likes': 0, 'ret': 0}\n",
      "{'_id': ObjectId('6637b4f228e662f0e0d3db9f'), 'content': \"You were the answer to a question on Cash Cab Music edition my daughter and I were watching on pvr last night. We both knew the answer, but the players didn't. \", 'date': '2024-05-05T16:32:50.000Z', 'likes': '1', 'ret': 0}\n",
      "{'_id': ObjectId('6637b4f228e662f0e0d3dba0'), 'content': 'Mason Molina shove day! Wreck Em Mason and Hudson!', 'date': '2024-05-05T16:32:50.000Z', 'likes': 0, 'ret': 0}\n",
      "{'_id': ObjectId('6637b4f228e662f0e0d3dba1'), 'content': 'So the resolve that sasuke was referring to is taking care of Boruto after omnipotence?', 'date': '2024-05-05T16:32:50.000Z', 'likes': '1', 'ret': 0}\n",
      "{'_id': ObjectId('6637b4f228e662f0e0d3dba2'), 'content': 'Cole still a bitch, idgaf', 'date': '2024-05-05T16:32:50.000Z', 'likes': 0, 'ret': 0}\n",
      "{'_id': ObjectId('6637b4f228e662f0e0d3dba3'), 'content': 'J. Cole is RUMOURED to be featured on Eminem’s upcoming album ‘The Death of Slim Shady’ ', 'date': '2024-05-05T14:57:13.000Z', 'likes': 0, 'ret': 0}\n",
      "{'_id': ObjectId('6637b4f228e662f0e0d3dba4'), 'content': 'I thought she said wriggling', 'date': '2024-05-05T16:32:50.000Z', 'likes': '1', 'ret': 0}\n",
      "{'_id': ObjectId('6637b4f428e662f0e0d3dba5'), 'content': 'Happy Fathers Day', 'date': '2024-05-05T16:32:50.000Z', 'likes': 0, 'ret': 0}\n",
      "{'_id': ObjectId('6637b4f428e662f0e0d3dba6'), 'content': 'No one cares what jih@dis says', 'date': '2024-05-05T16:32:50.000Z', 'likes': 0, 'ret': 0}\n",
      "{'_id': ObjectId('6637b4f428e662f0e0d3dba7'), 'content': 'Keren banget fotonya! Me wants to be your moots. :]', 'date': '2024-05-05T16:32:50.000Z', 'likes': 0, 'ret': 0}\n",
      "{'_id': ObjectId('6637b4f628e662f0e0d3dba8'), 'content': \"I'm happy for you guys\", 'date': '2024-05-05T16:32:50.000Z', 'likes': '2', 'ret': 0}\n",
      "{'_id': ObjectId('6637b4f728e662f0e0d3dba9'), 'content': 'IM NOT ASHAMED', 'date': '2024-05-05T16:32:50.000Z', 'likes': '2', 'ret': 0}\n",
      "{'_id': ObjectId('6637b4f728e662f0e0d3dbaa'), 'content': 'W aslam', 'date': '2024-05-05T16:32:50.000Z', 'likes': 0, 'ret': 0}\n",
      "{'_id': ObjectId('6637b4f728e662f0e0d3dbab'), 'content': 'respect. ', 'date': '2024-05-05T16:32:50.000Z', 'likes': 0, 'ret': 0}\n",
      "{'_id': ObjectId('6637b4f728e662f0e0d3dbac'), 'content': 'Happy Fathers Day', 'date': '2024-05-05T16:32:50.000Z', 'likes': 0, 'ret': 0}\n",
      "{'_id': ObjectId('6637b4f728e662f0e0d3dbad'), 'content': 'No one cares what jih@dis says', 'date': '2024-05-05T16:32:50.000Z', 'likes': 0, 'ret': 0}\n",
      "{'_id': ObjectId('6637b4f728e662f0e0d3dbae'), 'content': 'Keren banget fotonya! Me wants to be your moots. :]', 'date': '2024-05-05T16:32:50.000Z', 'likes': 0, 'ret': 0}\n",
      "{'_id': ObjectId('6637b4f728e662f0e0d3dbaf'), 'content': 'Check out my #SMRTG analysis on \\n@TradingView\\n:', 'date': '2024-05-05T16:32:50.000Z', 'likes': 0, 'ret': 0}\n",
      "{'_id': ObjectId('6637b4f728e662f0e0d3dbb0'), 'content': 'Clock it', 'date': '2024-05-05T16:32:50.000Z', 'likes': 0, 'ret': 0}\n",
      "{'_id': ObjectId('6637b4f728e662f0e0d3dbb1'), 'content': 'one like and ill jump', 'date': '2024-05-05T16:32:50.000Z', 'likes': 0, 'ret': 0}\n",
      "{'_id': ObjectId('6637b4f728e662f0e0d3dbb2'), 'content': 'at the end of their quarter life performance, taehyun looked at beomgyu and hueningkai like he adored them so much. it hits harder because he just said \"as someone who\\'s in the same boat and seeing them grow, i was so proud of my members today\"', 'date': '2024-05-05T14:28:59.000Z', 'likes': 0, 'ret': 0}\n",
      "{'_id': ObjectId('6637b4f728e662f0e0d3dbb3'), 'content': 'whose?', 'date': '2024-05-05T16:32:50.000Z', 'likes': 0, 'ret': 0}\n",
      "{'_id': ObjectId('6637b4f728e662f0e0d3dbb4'), 'content': \"you're their addiction, libra.\", 'date': '2024-05-05T16:32:00.000Z', 'likes': 0, 'ret': 0}\n",
      "{'_id': ObjectId('6637b59728e662f0e0d3dbb5'), 'content': \"I'm happy for you guys\", 'date': '2024-05-05T16:32:50.000Z', 'likes': '3', 'ret': 0}\n",
      "{'_id': ObjectId('6637b59728e662f0e0d3dbb6'), 'content': 'IM NOT ASHAMED', 'date': '2024-05-05T16:32:50.000Z', 'likes': '2', 'ret': 0}\n",
      "{'_id': ObjectId('6637b59728e662f0e0d3dbb7'), 'content': 'W aslam', 'date': '2024-05-05T16:32:50.000Z', 'likes': 0, 'ret': 0}\n",
      "{'_id': ObjectId('6637b59728e662f0e0d3dbb8'), 'content': 'respect. ', 'date': '2024-05-05T16:32:50.000Z', 'likes': 0, 'ret': 0}\n",
      "{'_id': ObjectId('6637b59728e662f0e0d3dbb9'), 'content': 'Happy Fathers Day', 'date': '2024-05-05T16:32:50.000Z', 'likes': 0, 'ret': 0}\n",
      "{'_id': ObjectId('6637b59728e662f0e0d3dbba'), 'content': 'No one cares what jih@dis says', 'date': '2024-05-05T16:32:50.000Z', 'likes': 0, 'ret': 0}\n",
      "{'_id': ObjectId('6637b59728e662f0e0d3dbbb'), 'content': 'Keren banget fotonya! Me wants to be your moots. :]', 'date': '2024-05-05T16:32:50.000Z', 'likes': 0, 'ret': 0}\n",
      "{'_id': ObjectId('6637b59728e662f0e0d3dbbc'), 'content': 'Check out my #SMRTG analysis on \\n@TradingView\\n:', 'date': '2024-05-05T16:32:50.000Z', 'likes': 0, 'ret': 0}\n",
      "{'_id': ObjectId('6637b59728e662f0e0d3dbbd'), 'content': 'Clock it', 'date': '2024-05-05T16:32:50.000Z', 'likes': 0, 'ret': 0}\n",
      "{'_id': ObjectId('6637b59728e662f0e0d3dbbe'), 'content': 'one like and ill jump', 'date': '2024-05-05T16:32:50.000Z', 'likes': '1', 'ret': 0}\n",
      "{'_id': ObjectId('6637b59728e662f0e0d3dbbf'), 'content': 'at the end of their quarter life performance, taehyun looked at beomgyu and hueningkai like he adored them so much. it hits harder because he just said \"as someone who\\'s in the same boat and seeing them grow, i was so proud of my members today\"', 'date': '2024-05-05T14:28:59.000Z', 'likes': 0, 'ret': 0}\n",
      "{'_id': ObjectId('6637b59828e662f0e0d3dbc0'), 'content': 'whose?', 'date': '2024-05-05T16:32:50.000Z', 'likes': 0, 'ret': 0}\n",
      "{'_id': ObjectId('6637b59828e662f0e0d3dbc1'), 'content': \"you're their addiction, libra.\", 'date': '2024-05-05T16:32:00.000Z', 'likes': 0, 'ret': 0}\n",
      "{'_id': ObjectId('6637b59a28e662f0e0d3dbc2'), 'content': 'Dayum', 'date': '2024-05-05T16:32:50.000Z', 'likes': 0, 'ret': 0}\n",
      "{'_id': ObjectId('6637b59a28e662f0e0d3dbc3'), 'content': 'birthday suit ', 'date': '2023-11-11T17:53:08.000Z', 'likes': 0, 'ret': 0}\n",
      "{'_id': ObjectId('6637b59a28e662f0e0d3dbc4'), 'content': 'BRANNNNNNNN', 'date': '2024-05-05T16:32:50.000Z', 'likes': 0, 'ret': 0}\n",
      "{'_id': ObjectId('6637b59a28e662f0e0d3dbc5'), 'content': 'You will all leave outstayed your welcome you don’t like us or our country only the free money house education healthcare well we are sick of our taxes paying for you all it will end.P.S We don’t like you either every country you descend upon you try to destroy.', 'date': '2024-05-05T16:32:50.000Z', 'likes': 0, 'ret': 0}\n",
      "{'_id': ObjectId('6637b59a28e662f0e0d3dbc6'), 'content': 'ugh me and brianna after laila teaches us how to dance', 'date': '2024-05-05T16:32:50.000Z', 'likes': 0, 'ret': 0}\n",
      "{'_id': ObjectId('6637b59a28e662f0e0d3dbc7'), 'content': 'THE LONGER VERSION', 'date': '2024-05-05T00:48:10.000Z', 'likes': 0, 'ret': 0}\n",
      "{'_id': ObjectId('6637b59b28e662f0e0d3dbc8'), 'content': 'packim', 'date': '2024-05-05T16:32:50.000Z', 'likes': 0, 'ret': 0}\n",
      "{'_id': ObjectId('6637b59b28e662f0e0d3dbc9'), 'content': 'Carol King', 'date': '2024-05-05T16:32:50.000Z', 'likes': 0, 'ret': 0}\n",
      "{'_id': ObjectId('6637b59b28e662f0e0d3dbca'), 'content': 'This is canon.', 'date': '2024-05-05T16:32:50.000Z', 'likes': 0, 'ret': 0}\n",
      "{'_id': ObjectId('6637b59b28e662f0e0d3dbcb'), 'content': \"It's afraid\", 'date': '2024-05-05T16:32:50.000Z', 'likes': 0, 'ret': 0}\n",
      "{'_id': ObjectId('6637b59b28e662f0e0d3dbcc'), 'content': 'You should tell us because im do dumb for this', 'date': '2024-05-05T16:32:50.000Z', 'likes': '1', 'ret': 0}\n",
      "{'_id': ObjectId('6637b59d28e662f0e0d3dbcd'), 'content': 'Election must be getting closer, those talking rubbish are at it again.', 'date': '2024-05-05T16:32:50.000Z', 'likes': 0, 'ret': 0}\n",
      "{'_id': ObjectId('6637b59d28e662f0e0d3dbce'), 'content': 'do you know i accidentally fell upon a shipper of lqr x jc ....I ', 'date': '2024-05-05T16:32:50.000Z', 'likes': 0, 'ret': 0}\n",
      "{'_id': ObjectId('6637b59d28e662f0e0d3dbcf'), 'content': 'Oh and I’m sure your meant “reel not real ', 'date': '2024-05-05T16:32:50.000Z', 'likes': 0, 'ret': 0}\n",
      "{'_id': ObjectId('6637b59d28e662f0e0d3dbd0'), 'content': 'u read a factual statement', 'date': '2024-05-05T16:32:50.000Z', 'likes': 0, 'ret': 0}\n",
      "{'_id': ObjectId('6637b59d28e662f0e0d3dbd1'), 'content': 'Bermain tic tac to bersama', 'date': '2024-05-05T16:32:50.000Z', 'likes': 0, 'ret': 0}\n",
      "{'_id': ObjectId('6637b59d28e662f0e0d3dbd2'), 'content': \"oh so you're on the other side of the world? lol\", 'date': '2024-05-05T16:32:50.000Z', 'likes': 0, 'ret': 0}\n",
      "{'_id': ObjectId('6637b59d28e662f0e0d3dbd3'), 'content': \"Check out Cody-Amorero's video! #TikTok\", 'date': '2024-05-05T16:32:50.000Z', 'likes': 0, 'ret': 0}\n",
      "{'_id': ObjectId('6637b5a028e662f0e0d3dbd4'), 'content': 'Yes it was.', 'date': '2024-05-05T16:32:50.000Z', 'likes': 0, 'ret': 0}\n",
      "{'_id': ObjectId('6637b5a028e662f0e0d3dbd5'), 'content': 'Was The Mar-a-Lago Raid A Setup? https://rumble.com/v4sb0g0-was-the-mar-a-lago-raid-a-setup.html…', 'date': '2024-05-05T03:39:21.000Z', 'likes': 0, 'ret': 0}\n",
      "{'_id': ObjectId('6637b5a128e662f0e0d3dbd6'), 'content': 'This man wouldn’t spit on you if you were on fire. What the fuck are you doing bro', 'date': '2024-05-05T16:32:50.000Z', 'likes': 0, 'ret': 0}\n",
      "{'_id': ObjectId('6637b5a128e662f0e0d3dbd7'), 'content': 'No chance', 'date': '2024-05-05T16:32:50.000Z', 'likes': '1', 'ret': 0}\n",
      "{'_id': ObjectId('6637b5a128e662f0e0d3dbd8'), 'content': 'Layers of comedy here', 'date': '2024-05-05T16:32:50.000Z', 'likes': 0, 'ret': 0}\n",
      "{'_id': ObjectId('6637b5a128e662f0e0d3dbd9'), 'content': 'Good tweet', 'date': '2024-05-05T16:32:50.000Z', 'likes': 0, 'ret': 0}\n",
      "{'_id': ObjectId('6637b5a128e662f0e0d3dbda'), 'content': 'Nah Evans is most likely not ready to start', 'date': '2024-05-05T16:32:50.000Z', 'likes': 0, 'ret': 0}\n",
      "{'_id': ObjectId('6637b5a128e662f0e0d3dbdb'), 'content': 'Superb catch! ', 'date': '2024-05-05T16:32:50.000Z', 'likes': 0, 'ret': 0}\n",
      "{'_id': ObjectId('6637b5a128e662f0e0d3dbdc'), 'content': 'THE QUALITY THOOOOOOO GOKIL BANGET', 'date': '2024-05-05T16:32:50.000Z', 'likes': 0, 'ret': 0}\n",
      "{'_id': ObjectId('6637b5a128e662f0e0d3dbdd'), 'content': 'Except these are legit pedocrat Biden supporters ', 'date': '2024-05-05T16:32:50.000Z', 'likes': 0, 'ret': 0}\n",
      "{'_id': ObjectId('6637b5a128e662f0e0d3dbde'), 'content': 'You can only speak for you.', 'date': '2024-05-05T16:32:50.000Z', 'likes': '1', 'ret': 0}\n",
      "{'_id': ObjectId('6637b5a128e662f0e0d3dbdf'), 'content': 'Mayank cutie deserve better friends', 'date': '2024-05-05T16:32:50.000Z', 'likes': 0, 'ret': 0}\n",
      "{'_id': ObjectId('6637b5a128e662f0e0d3dbe0'), 'content': 'What do you recommend installing StartOS on? If I cannot use my Raspis what shall I use instead?', 'date': '2024-05-05T16:32:50.000Z', 'likes': 0, 'ret': 0}\n",
      "{'_id': ObjectId('6637b5a228e662f0e0d3dbe1'), 'content': 'When I don’t fucking like you and no longer care, you will feel it without me even saying a word.', 'date': '2024-05-05T16:32:50.000Z', 'likes': 0, 'ret': 0}\n",
      "{'_id': ObjectId('6637b5a228e662f0e0d3dbe2'), 'content': 'Rohit Sharma Openers batsman not No 5,6,7,8 batsman', 'date': '2024-05-05T16:32:50.000Z', 'likes': '1', 'ret': '1'}\n",
      "{'_id': ObjectId('6637b5a228e662f0e0d3dbe3'), 'content': 'i’m so sick of this place', 'date': '2024-05-05T16:32:50.000Z', 'likes': 0, 'ret': 0}\n",
      "{'_id': ObjectId('6637b5a228e662f0e0d3dbe4'), 'content': 'lock him up & throw away the key ', 'date': '2024-05-05T16:32:50.000Z', 'likes': 0, 'ret': 0}\n",
      "{'_id': ObjectId('6637b5a228e662f0e0d3dbe5'), 'content': 'I’m sorry but he was NOT “throwing hands” he was fighting for his life ', 'date': '2024-05-05T16:32:50.000Z', 'likes': 0, 'ret': 0}\n",
      "{'_id': ObjectId('6637b5a228e662f0e0d3dbe6'), 'content': 'Morning vibes! ', 'date': '2024-05-05T16:32:50.000Z', 'likes': 0, 'ret': 0}\n",
      "{'_id': ObjectId('6637b5a428e662f0e0d3dbe7'), 'content': 'Nah Evans is most likely not ready to start', 'date': '2024-05-05T16:32:50.000Z', 'likes': 0, 'ret': 0}\n",
      "{'_id': ObjectId('6637b5a428e662f0e0d3dbe8'), 'content': 'Superb catch! ', 'date': '2024-05-05T16:32:50.000Z', 'likes': 0, 'ret': 0}\n",
      "{'_id': ObjectId('6637b5a528e662f0e0d3dbe9'), 'content': 'THE QUALITY THOOOOOOO GOKIL BANGET', 'date': '2024-05-05T16:32:50.000Z', 'likes': 0, 'ret': 0}\n",
      "{'_id': ObjectId('6637b5a528e662f0e0d3dbea'), 'content': 'Except these are legit pedocrat Biden supporters ', 'date': '2024-05-05T16:32:50.000Z', 'likes': 0, 'ret': 0}\n",
      "{'_id': ObjectId('6637b5a528e662f0e0d3dbeb'), 'content': 'You can only speak for you.', 'date': '2024-05-05T16:32:50.000Z', 'likes': 0, 'ret': 0}\n",
      "{'_id': ObjectId('6637b5a528e662f0e0d3dbec'), 'content': 'Mayank cutie deserve better friends', 'date': '2024-05-05T16:32:50.000Z', 'likes': '1', 'ret': 0}\n",
      "{'_id': ObjectId('6637b5a528e662f0e0d3dbed'), 'content': 'What do you recommend installing StartOS on? If I cannot use my Raspis what shall I use instead?', 'date': '2024-05-05T16:32:50.000Z', 'likes': 0, 'ret': 0}\n",
      "{'_id': ObjectId('6637b5a528e662f0e0d3dbee'), 'content': 'When I don’t fucking like you and no longer care, you will feel it without me even saying a word.', 'date': '2024-05-05T16:32:50.000Z', 'likes': 0, 'ret': 0}\n",
      "{'_id': ObjectId('6637b5a528e662f0e0d3dbef'), 'content': 'Rohit Sharma Openers batsman not No 5,6,7,8 batsman', 'date': '2024-05-05T16:32:50.000Z', 'likes': 0, 'ret': 0}\n",
      "{'_id': ObjectId('6637b5a528e662f0e0d3dbf0'), 'content': 'i’m so sick of this place', 'date': '2024-05-05T16:32:50.000Z', 'likes': '1', 'ret': '1'}\n",
      "{'_id': ObjectId('6637b5a528e662f0e0d3dbf1'), 'content': 'lock him up & throw away the key ', 'date': '2024-05-05T16:32:50.000Z', 'likes': 0, 'ret': 0}\n",
      "{'_id': ObjectId('6637b5a528e662f0e0d3dbf2'), 'content': 'I’m sorry but he was NOT “throwing hands” he was fighting for his life ', 'date': '2024-05-05T16:32:50.000Z', 'likes': 0, 'ret': 0}\n",
      "{'_id': ObjectId('6637b5a528e662f0e0d3dbf3'), 'content': 'Morning vibes! ', 'date': '2024-05-05T16:32:50.000Z', 'likes': 0, 'ret': 0}\n",
      "{'_id': ObjectId('6637b5a528e662f0e0d3dbf4'), 'content': 'Cramming time', 'date': '2024-05-05T16:32:50.000Z', 'likes': 0, 'ret': 0}\n",
      "{'_id': ObjectId('6637b5a528e662f0e0d3dbf5'), 'content': 'Too late to ask for a birthday present ? And no damned Tesla either. \\nI am  JOKING !!!!', 'date': '2024-05-05T16:32:50.000Z', 'likes': 0, 'ret': 0}\n",
      "{'_id': ObjectId('6637b5a628e662f0e0d3dbf6'), 'content': \"There is no working poor.  There are only democrats insisting that the working poor now report their garage and swap meet sales on 1099's every year.\", 'date': '2024-05-05T16:32:50.000Z', 'likes': 0, 'ret': 0}\n",
      "{'_id': ObjectId('6637b5a628e662f0e0d3dbf7'), 'content': 'Same, put it on wax', 'date': '2024-05-05T16:32:50.000Z', 'likes': '2', 'ret': 0}\n",
      "{'_id': ObjectId('6637b5a628e662f0e0d3dbf8'), 'content': 'Metro tweeting is cornyyyyyy as hell to me idk', 'date': '2024-05-05T15:48:12.000Z', 'likes': 0, 'ret': 0}\n",
      "{'_id': ObjectId('6637b5a628e662f0e0d3dbf9'), 'content': 'yeah it changed , so screwed up', 'date': '2024-05-05T16:32:50.000Z', 'likes': 0, 'ret': 0}\n",
      "{'_id': ObjectId('6637b5a628e662f0e0d3dbfa'), 'content': 'Ratna\\'s next series (her biopic) on Netflix titled \"Pagli Kahin ki\", releasing shortly.', 'date': '2024-05-05T16:32:50.000Z', 'likes': 0, 'ret': 0}\n",
      "{'_id': ObjectId('6637b5a628e662f0e0d3dbfb'), 'content': \"I've been saying that for over a decade.\\n\\nHollywood is now culturally irrelevant.\", 'date': '2024-05-05T16:32:50.000Z', 'likes': 0, 'ret': 0}\n"
     ]
    }
   ],
   "source": [
    "docs = collection.find()\n",
    "for doc in docs:\n",
    "    print(doc)\n",
    "# client.close()\n"
   ]
  },
  {
   "cell_type": "code",
   "execution_count": null,
   "id": "1585295a-cadc-4a89-a7c7-a62c2e7049d6",
   "metadata": {},
   "outputs": [],
   "source": []
  }
 ],
 "metadata": {
  "kernelspec": {
   "display_name": "Python 3 (ipykernel)",
   "language": "python",
   "name": "python3"
  },
  "language_info": {
   "codemirror_mode": {
    "name": "ipython",
    "version": 3
   },
   "file_extension": ".py",
   "mimetype": "text/x-python",
   "name": "python",
   "nbconvert_exporter": "python",
   "pygments_lexer": "ipython3",
   "version": "3.11.7"
  }
 },
 "nbformat": 4,
 "nbformat_minor": 5
}
